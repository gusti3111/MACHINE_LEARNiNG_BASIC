{
  "nbformat": 4,
  "nbformat_minor": 0,
  "metadata": {
    "colab": {
      "name": "matplotlib4and kaggle.ipynb",
      "provenance": [],
      "private_outputs": true,
      "collapsed_sections": [],
      "authorship_tag": "ABX9TyPNo5tHMeyu5BawdEc422nK",
      "include_colab_link": true
    },
    "kernelspec": {
      "name": "python3",
      "display_name": "Python 3"
    }
  },
  "cells": [
    {
      "cell_type": "markdown",
      "metadata": {
        "id": "view-in-github",
        "colab_type": "text"
      },
      "source": [
        "<a href=\"https://colab.research.google.com/github/iwan3111/MACHINE_LEARNiNG_BASIC/blob/master/matplotlib4and_kaggle.ipynb\" target=\"_parent\"><img src=\"https://colab.research.google.com/assets/colab-badge.svg\" alt=\"Open In Colab\"/></a>"
      ]
    },
    {
      "cell_type": "code",
      "execution_count": null,
      "metadata": {
        "id": "XXJs-U8a5yHQ"
      },
      "outputs": [],
      "source": [
        "%matplotlib inline\n",
        "import numpy as np\n",
        "# untuk ploting data\n",
        "import matplotlib\n",
        "import matplotlib.pyplot as plt\n",
        "#versi numpy dan matplotlib\n",
        "print(matplotlib.__version__)\n",
        "print(np.__version__)\n",
        "#install kaggle\n",
        "!pip install --upgrade --force-reinstall --no-deps kaggle\n",
        "\n"
      ]
    },
    {
      "cell_type": "code",
      "source": [
        "from google.colab import files\n",
        "files.upload()"
      ],
      "metadata": {
        "id": "QQ3IXb_4Au_v"
      },
      "execution_count": null,
      "outputs": []
    },
    {
      "cell_type": "code",
      "source": [
        "#create kaggle folder\n",
        "!mkdir ~/.kaggle"
      ],
      "metadata": {
        "id": "illu3_uEBK6l"
      },
      "execution_count": null,
      "outputs": []
    },
    {
      "cell_type": "code",
      "source": [
        "#copy kaggle.json to kaggle folder\n",
        "!cp kaggle.json ~/.kaggle/"
      ],
      "metadata": {
        "id": "3vHLd_f6BcBX"
      },
      "execution_count": null,
      "outputs": []
    },
    {
      "cell_type": "code",
      "source": [
        "#permission folder kaggle\n",
        "!chmod 600 ~/kaggle/kaggle.json"
      ],
      "metadata": {
        "id": "j59aTE29BuWe"
      },
      "execution_count": null,
      "outputs": []
    },
    {
      "cell_type": "code",
      "source": [
        "!pip install slugify\n"
      ],
      "metadata": {
        "id": "mHbbF39oFpV3"
      },
      "execution_count": null,
      "outputs": []
    },
    {
      "cell_type": "code",
      "source": [
        "! kaggle competitions download --force titanic"
      ],
      "metadata": {
        "id": "Xe5LkbnEOTwP"
      },
      "execution_count": null,
      "outputs": []
    },
    {
      "cell_type": "code",
      "source": [
        "!unzip titanic.zip"
      ],
      "metadata": {
        "id": "WzaPUCCDOhdO"
      },
      "execution_count": null,
      "outputs": []
    },
    {
      "cell_type": "code",
      "source": [
        "!ls -la"
      ],
      "metadata": {
        "id": "lcWYFIPUPTTA"
      },
      "execution_count": null,
      "outputs": []
    },
    {
      "cell_type": "code",
      "metadata": {
        "id": "VUMrWsl2oEl-"
      },
      "source": [
        "mu, sigma = 100, 15 \n",
        "#x = mu + sigma * np.random.rand(1000)\n",
        "x = "
      ],
      "execution_count": null,
      "outputs": []
    },
    {
      "cell_type": "code",
      "source": [
        ""
      ],
      "metadata": {
        "id": "D-NbPp9tEIuo"
      },
      "execution_count": null,
      "outputs": []
    },
    {
      "cell_type": "code",
      "source": [
        "x.shape"
      ],
      "metadata": {
        "id": "-wAiPByl8vKG"
      },
      "execution_count": null,
      "outputs": []
    },
    {
      "cell_type": "code",
      "source": [
        "plt.hist(x,\n",
        "         bins= 50,\n",
        "         facecolor = 'g',\n",
        "         alpha = 0.75)\n",
        "plt.xlabel('x axis')\n",
        "plt.ylabel('y axis')\n",
        "plt.title('histogram')\n",
        "\n",
        "plt.grid()"
      ],
      "metadata": {
        "id": "WHi6Poml_5uA"
      },
      "execution_count": null,
      "outputs": []
    }
  ]
}