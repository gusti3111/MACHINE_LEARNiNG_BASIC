{
  "nbformat": 4,
  "nbformat_minor": 0,
  "metadata": {
    "colab": {
      "name": "matplotlib1.ipynb",
      "private_outputs": true,
      "provenance": [],
      "collapsed_sections": [],
      "authorship_tag": "ABX9TyOyFLXzBwM9BcQ6T6az8rgv",
      "include_colab_link": true
    },
    "kernelspec": {
      "name": "python3",
      "display_name": "Python 3"
    },
    "language_info": {
      "name": "python"
    }
  },
  "cells": [
    {
      "cell_type": "markdown",
      "metadata": {
        "id": "view-in-github",
        "colab_type": "text"
      },
      "source": [
        "<a href=\"https://colab.research.google.com/github/iwan3111/MACHINE_LEARNiNG_BASIC/blob/master/matplotlib1.ipynb\" target=\"_parent\"><img src=\"https://colab.research.google.com/assets/colab-badge.svg\" alt=\"Open In Colab\"/></a>"
      ]
    },
    {
      "cell_type": "code",
      "execution_count": null,
      "metadata": {
        "id": "9U6Y8MS-oeS4"
      },
      "outputs": [],
      "source": [
        "%matplotlib inline\n",
        "import numpy as np\n",
        "# untuk ploting data\n",
        "import matplotlib.pyplot as plt\n"
      ]
    },
    {
      "cell_type": "code",
      "source": [
        "x= [1,1,2,3,4]\n",
        "y = [10,2,4,6,8]\n",
        "# membuat figure dan axes\n",
        "fig, ax= plt.subplots()\n",
        "#membuat ploting pada axes\n",
        "ax.plot(x,y)"
      ],
      "metadata": {
        "id": "J7UNukezosnd"
      },
      "execution_count": null,
      "outputs": []
    },
    {
      "cell_type": "code",
      "source": [
        "# alternatif\n",
        "x= [1,1,2,3,4]\n",
        "y = [10,2,4,6,8]\n",
        "plot = plt.plot(x,y)\n",
        "print(plot)\n"
      ],
      "metadata": {
        "id": "XIl8ig8orzrW"
      },
      "execution_count": null,
      "outputs": []
    },
    {
      "cell_type": "code",
      "source": [
        "#figure adalah kumpulan(container) axes\n",
        "#axes adalah wadah grafik\n",
        "# membuat figure\n",
        "fig = plt.figure()\n",
        "#membuat figure dan axes\n",
        "fig, ax = plt.subplots()\n",
        "#membuat figure dengan 2 column dan 3 baris\n",
        "fig, axs= plt.subplots(2,3)\n",
        "\n"
      ],
      "metadata": {
        "id": "xlgNcpC3stsF"
      },
      "execution_count": null,
      "outputs": []
    },
    {
      "cell_type": "code",
      "source": [
        "#2 cara menggunakan matplotlib\n",
        "#1. Object Oriented Style\n",
        "\n",
        "#OOStyle membuat figure dan axes dan memamnggil keduanya\n",
        "#pertama menggunakan numpy untuk membuat  deret angka\n",
        "#pada kasus dibawah kita meggunakan data yang awal=0 akhir=2 dan jumlahdata=100\n",
        "x = np.linspace(0,2,100)\n",
        "x"
      ],
      "metadata": {
        "id": "DmxpvstNum8X"
      },
      "execution_count": null,
      "outputs": []
    },
    {
      "cell_type": "code",
      "source": [
        "#ploting datanya\n",
        "fig , ax = plt.subplots()\n",
        "#plot 3 jenis data\n",
        "#ploting linear \n",
        "ax.plot(x,x, label='linear')\n",
        "#ploting kuadarat \n",
        "ax.plot((x**2 + 2x),x, label='quadratic')\n",
        "ax.plot(x,x**3, label='cubic')\n",
        "#memberi label pada x axis\n",
        "ax.set_xlabel('x_label')\n",
        "#memberi label pada y axis\n",
        "ax.set_ylabel('y_label')\n",
        "ax.set_title('SIMPLE PLOT')\n",
        "ax.legend()#menyertakan legend dari 3 jenis grafik\n"
      ],
      "metadata": {
        "id": "WVFjx_NKvu5T"
      },
      "execution_count": null,
      "outputs": []
    },
    {
      "cell_type": "code",
      "source": [
        ""
      ],
      "metadata": {
        "id": "bSS__WlkyIzr"
      },
      "execution_count": null,
      "outputs": []
    }
  ]
}