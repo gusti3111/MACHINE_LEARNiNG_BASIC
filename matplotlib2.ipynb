{
  "nbformat": 4,
  "nbformat_minor": 0,
  "metadata": {
    "colab": {
      "name": "matplotlib2.ipynb",
      "private_outputs": true,
      "provenance": [],
      "collapsed_sections": [],
      "authorship_tag": "ABX9TyOzAzbdHe241owiMSm7xEI+",
      "include_colab_link": true
    },
    "kernelspec": {
      "name": "python3",
      "display_name": "Python 3"
    },
    "language_info": {
      "name": "python"
    }
  },
  "cells": [
    {
      "cell_type": "markdown",
      "metadata": {
        "id": "view-in-github",
        "colab_type": "text"
      },
      "source": [
        "<a href=\"https://colab.research.google.com/github/iwan3111/MACHINE_LEARNiNG_BASIC/blob/master/matplotlib2.ipynb\" target=\"_parent\"><img src=\"https://colab.research.google.com/assets/colab-badge.svg\" alt=\"Open In Colab\"/></a>"
      ]
    },
    {
      "cell_type": "code",
      "execution_count": null,
      "metadata": {
        "id": "XXJs-U8a5yHQ"
      },
      "outputs": [],
      "source": [
        "%matplotlib inline\n",
        "import numpy as np\n",
        "# untuk ploting data\n",
        "import matplotlib\n",
        "import matplotlib.pyplot as plt\n",
        "#versi numpy dan matplotlib\n",
        "print(matplotlib.__version__)\n",
        "print(np.__version__)\n"
      ]
    },
    {
      "cell_type": "markdown",
      "source": [
        "### Membuat Ploting Sederhana"
      ],
      "metadata": {
        "id": "8k6Yk68eYs1I"
      }
    },
    {
      "cell_type": "code",
      "source": [
        "\n",
        "# menggunakan pyplot\n",
        "#listnya satu deret bilangan\n",
        "\n",
        "plt.plot([2,5,7,10])\n",
        "plt.ylabel(\"Y axis\")\n",
        "plt.show()\n",
        "\n",
        "#  kalo kita hanya membuat hanya satu list bilangan, bilangan itu akan dinyatakan sebagai sumbu y\n",
        "#sumbu x akan dibuat otomatis dari 0 1 2 3 ..... dst\n",
        "\n",
        "\n",
        "\n"
      ],
      "metadata": {
        "id": "MJaqHjR_ZJB4"
      },
      "execution_count": null,
      "outputs": []
    },
    {
      "cell_type": "code",
      "source": [
        "# kalo ada 2 deret bilangan deret pertama itu x axis dan yang kedua y axis\n",
        "plt.plot([2,6,10,14,18,22],[4,5,7,10,14,19])\n",
        "plt.xlabel(\"X axis\")\n",
        "plt.ylabel(\"Y axis\")\n",
        "plt.show()"
      ],
      "metadata": {
        "id": "WfT1ePNcdRW4"
      },
      "execution_count": null,
      "outputs": []
    },
    {
      "cell_type": "markdown",
      "source": [
        "# FORMAT PADA PLOT"
      ],
      "metadata": {
        "id": "LtQs-QJreuUi"
      }
    },
    {
      "cell_type": "code",
      "source": [
        "#nilai default parameter ketiga adalah \"b-\"\n",
        "#pada parameter ketiga b = blue dan - = garis\n",
        "\n",
        "plt.plot([2,6,10,14,18,22],[4,36,100,196,234,484], 'b-')\n",
        "#plt.plot([2,6,10,14,18,22],[4,36,100,196,234,484])\n",
        "#plt.axis untuk menyatakan batas axisnya [xmin,xmax,ymin,ymax]\n",
        "plt.axis([0,30,0,500])\n",
        "plt.xlabel(\"X axis\")\n",
        "plt.ylabel(\"Y axis\")\n",
        "plt.show()"
      ],
      "metadata": {
        "id": "BVw-BzAgdy26"
      },
      "execution_count": null,
      "outputs": []
    },
    {
      "cell_type": "markdown",
      "source": [
        "# MULTIPLOT "
      ],
      "metadata": {
        "id": "bC_e2BkYiL--"
      }
    },
    {
      "cell_type": "code",
      "source": [
        "#BILANGAN YANG AKAN DIBUAT MENGGUNAKAN NUMPY\n",
        "#buat deret arrya menggunakan numpy dengan\n",
        "#batas minimun 0.\n",
        "#batasmaksimum 0.8\n",
        "#interval 0.1 \n",
        "a = np.arange(0.,0.8,0.1)\n",
        "a"
      ],
      "metadata": {
        "id": "rS2iaZWMiRWe"
      },
      "execution_count": null,
      "outputs": []
    },
    {
      "cell_type": "code",
      "source": [
        "#buat grafik dengan matplotlib\n",
        "plt.plot(a,a,'r--')\n",
        "plt.plot(a,a**2,'b^')\n",
        "plt.plot(a,a**3,'gs')\n",
        "plt.plot(a,a**4,'y-')\n",
        "plt.plot(a,a**5,'cs')\n",
        "plt.show()"
      ],
      "metadata": {
        "id": "WWlseSFxi-ln"
      },
      "execution_count": null,
      "outputs": []
    },
    {
      "cell_type": "code",
      "source": [
        "#pemanggilan plot satu fungsi\n",
        "plt.plot(a,a,'r--',\n",
        "          a,a**2,'b^',\n",
        "          a,a**5,'cs'\n",
        "\n",
        "          )\n",
        "plt.show()"
      ],
      "metadata": {
        "id": "WaIKY8jPkfmy"
      },
      "execution_count": null,
      "outputs": []
    },
    {
      "cell_type": "markdown",
      "source": [
        "# PLOTING DATA FRAME/DICTIONARY"
      ],
      "metadata": {
        "id": "ITvZ8i7jrHhx"
      }
    },
    {
      "cell_type": "code",
      "source": [
        "#kita akan memplot data yang ada dalam sebuah frame/dictionary\n",
        "#data a menggunakan np.arange\n",
        "#b menggunakakan random.randint artinya pengecakan bialngan interger dari 0 sampai 20 sebanyak 20 data\n",
        "#c meggunakan data raandom yang diacak sampai 50 data\n",
        "#data d adalah persamaan kuadrat dengan x = adalah data a\n",
        "\n",
        "data = {'a':np.arange(50),\n",
        "        'b':np.random.randint(0,100,50),\n",
        "        'c':np.random.randn(50)\n",
        "    \n",
        "}\n",
        "data['d'] = data['a']**2 + 2*data['a'] + 1\n",
        "data['e'] = np.abs(data['a'])\n",
        "data"
      ],
      "metadata": {
        "id": "MxJvhdO5rRem"
      },
      "execution_count": null,
      "outputs": []
    },
    {
      "cell_type": "code",
      "source": [
        "#ploting data\n",
        "#menggunakan  scatter plot \n",
        "\n",
        "plt.scatter('a','d',data=data)\n",
        "plt.xlabel(\"X axis\")\n",
        "plt.ylabel(\"Y axis\")\n",
        "plt.show()"
      ],
      "metadata": {
        "id": "f6H8Fgr5u6LQ"
      },
      "execution_count": null,
      "outputs": []
    },
    {
      "cell_type": "code",
      "source": [
        "#c untuk color yakni pada  b\n",
        "# s for size using data e\n",
        "plt.scatter('a','b',c='a',s='b',data=data)\n",
        "plt.xlabel(\"X axis\")\n",
        "plt.ylabel(\"Y axis\")\n",
        "plt.show()"
      ],
      "metadata": {
        "id": "V2SNhbVywKAR"
      },
      "execution_count": null,
      "outputs": []
    },
    {
      "cell_type": "markdown",
      "source": [
        "# Ploting Categorical Data"
      ],
      "metadata": {
        "id": "BjzGsMBoylJb"
      }
    },
    {
      "cell_type": "code",
      "source": [
        "groups =['JKT48','Noah','Ungu','Letto']\n",
        "values = [48,3,5,4]\n",
        "\n"
      ],
      "metadata": {
        "id": "t8asLhp5x2jA"
      },
      "execution_count": null,
      "outputs": []
    },
    {
      "cell_type": "code",
      "source": [
        "#ploting biasa\n",
        "plt.plot(groups, values)\n",
        "plt.show()"
      ],
      "metadata": {
        "id": "oLE-djASzJz5"
      },
      "execution_count": null,
      "outputs": []
    },
    {
      "cell_type": "code",
      "source": [
        "#ploting scatter\n",
        "plt.scatter(groups, values)\n",
        "plt.show()"
      ],
      "metadata": {
        "id": "B5S2kVSj0Qy4"
      },
      "execution_count": null,
      "outputs": []
    },
    {
      "cell_type": "code",
      "source": [
        "#ploting bar\n",
        "plt.bar(groups, values)\n",
        "plt.show()"
      ],
      "metadata": {
        "id": "DXpdNxa20ukp"
      },
      "execution_count": null,
      "outputs": []
    }
  ]
}