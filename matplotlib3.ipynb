{
  "nbformat": 4,
  "nbformat_minor": 0,
  "metadata": {
    "colab": {
      "name": "matplotlib3.ipynb",
      "private_outputs": true,
      "provenance": [],
      "collapsed_sections": [],
      "authorship_tag": "ABX9TyMIF8exM2pPSsGa0LTbsf2Z",
      "include_colab_link": true
    },
    "kernelspec": {
      "name": "python3",
      "display_name": "Python 3"
    },
    "language_info": {
      "name": "python"
    }
  },
  "cells": [
    {
      "cell_type": "markdown",
      "metadata": {
        "id": "view-in-github",
        "colab_type": "text"
      },
      "source": [
        "<a href=\"https://colab.research.google.com/github/iwan3111/MACHINE_LEARNiNG_BASIC/blob/master/matplotlib3.ipynb\" target=\"_parent\"><img src=\"https://colab.research.google.com/assets/colab-badge.svg\" alt=\"Open In Colab\"/></a>"
      ]
    },
    {
      "cell_type": "markdown",
      "source": [
        "#MULTIPLE SUBPLOTS"
      ],
      "metadata": {
        "id": "zwR4UMn66qm-"
      }
    },
    {
      "cell_type": "code",
      "execution_count": null,
      "metadata": {
        "id": "XXJs-U8a5yHQ"
      },
      "outputs": [],
      "source": [
        "%matplotlib inline\n",
        "import numpy as np\n",
        "# untuk ploting data\n",
        "import matplotlib\n",
        "import matplotlib.pyplot as plt\n",
        "#versi numpy dan matplotlib\n",
        "print(matplotlib.__version__)\n",
        "print(np.__version__)\n"
      ]
    },
    {
      "cell_type": "code",
      "source": [
        "x=np.arange(0.,2.0,0.02)\n",
        "#fungsi sin trigonometri\n",
        "s=np.sin(2*np.pi*x)\n",
        "print(x,s)\n"
      ],
      "metadata": {
        "id": "TelfU4Mo6ASf"
      },
      "execution_count": null,
      "outputs": []
    },
    {
      "cell_type": "code",
      "source": [
        "#ploting data pakai subplots\n",
        "fig,ax= plt.subplots()\n",
        "#terus axes atau wadah grafiknya menganndung x dan s\n",
        "ax.plot(x,s)\n",
        "#set axes\n",
        "ax.set(xlabel = \"x values\",\n",
        "       ylabel= \"y sin value\",\n",
        "       title= \"grafik sinusodial terhadap x\"\n",
        "\n",
        "       )\n",
        "\n",
        "#tambahkan grid pada axes\n",
        "ax.grid()\n",
        "ax.legend()\n",
        "plt.show()"
      ],
      "metadata": {
        "id": "B41OM-Kb7diH"
      },
      "execution_count": null,
      "outputs": []
    },
    {
      "cell_type": "markdown",
      "source": [
        "# Multiple Subplots"
      ],
      "metadata": {
        "id": "QQlZ-X0u9Eko"
      }
    },
    {
      "cell_type": "code",
      "source": [
        "x1 = np.linspace(0.0, 5.0,100)\n",
        "x2 = np.linspace(0.0,2.0,100)\n",
        "\n",
        "y1 = np.cos(2 * np.pi * x1)\n",
        "y2 = np.cos(2 * np.pi * x2)\n"
      ],
      "metadata": {
        "id": "LwUvh-rK9LnM"
      },
      "execution_count": null,
      "outputs": []
    },
    {
      "cell_type": "markdown",
      "source": [
        "# MULTIPLE SUBPLOTS OOSTYLE"
      ],
      "metadata": {
        "id": "S6OG-YaZ9pNk"
      }
    },
    {
      "cell_type": "code",
      "source": [
        "fig,(ax1,ax2) = plt.subplots(2,1)\n",
        "plt.suptitle(\"MULTIPLE SUBPLOTS\")\n",
        "\n",
        "\n",
        "ax1.plot(x1,y1, \"ro-\")\n",
        "ax1.set_ylabel(\"Nilai Cos x1\")\n",
        "\n",
        "\n",
        "ax2.plot(x2,y2, \"g.-\")\n",
        "ax2.set_ylabel(\"Nilai Cos x2\")\n",
        "plt.show()"
      ],
      "metadata": {
        "id": "l2un1avz9mLc"
      },
      "execution_count": null,
      "outputs": []
    },
    {
      "cell_type": "markdown",
      "source": [
        "# MULTIPLE SUBPLOTS WITH PYPLOT STYLE\n"
      ],
      "metadata": {
        "id": "sRRXVu5wWfG3"
      }
    },
    {
      "cell_type": "code",
      "source": [
        "#membuat plot dengan 2 baris 1 kolom \n",
        "plt.subplot(2,1,1)\n",
        "plt.plot(x1,y1,\"ro-\") #ploting x1 y1 dengan grafik warna merah dot dan garis \n",
        "plt.ylabel(\"Nilai Cos x1\")\n",
        "plt.title(\"Multiple subplots\")\n",
        "\n",
        "\n",
        "plt.subplot(2,1,2)\n",
        "plt.plot(x2,y2,\"b.-\")\n",
        "plt.ylabel(\"Nilai $cos(x_2)$\")\n",
        "\n",
        "plt.show()"
      ],
      "metadata": {
        "id": "0_OcfCMYWp2D"
      },
      "execution_count": null,
      "outputs": []
    },
    {
      "cell_type": "code",
      "source": [
        ""
      ],
      "metadata": {
        "id": "YF5s6gJSYrJ6"
      },
      "execution_count": null,
      "outputs": []
    }
  ]
}